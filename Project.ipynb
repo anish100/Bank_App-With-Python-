{
 "cells": [
  {
   "cell_type": "code",
   "execution_count": 27,
   "metadata": {},
   "outputs": [
    {
     "data": {
      "text/plain": [
       "'C:\\\\Users\\\\dell\\\\Desktop\\\\SUMMER INTERNSHIP\\\\BATCH 10_30\\\\Bank_App'"
      ]
     },
     "execution_count": 27,
     "metadata": {},
     "output_type": "execute_result"
    }
   ],
   "source": [
    "pwd"
   ]
  },
  {
   "cell_type": "code",
   "execution_count": 28,
   "metadata": {},
   "outputs": [],
   "source": [
    "import shelve"
   ]
  },
  {
   "cell_type": "code",
   "execution_count": 29,
   "metadata": {},
   "outputs": [
    {
     "data": {
      "text/plain": [
       "['BsdDbShelf',\n",
       " 'BytesIO',\n",
       " 'DbfilenameShelf',\n",
       " 'Pickler',\n",
       " 'Shelf',\n",
       " 'Unpickler',\n",
       " '_ClosedDict',\n",
       " '__all__',\n",
       " '__builtins__',\n",
       " '__cached__',\n",
       " '__doc__',\n",
       " '__file__',\n",
       " '__loader__',\n",
       " '__name__',\n",
       " '__package__',\n",
       " '__spec__',\n",
       " 'collections',\n",
       " 'open']"
      ]
     },
     "execution_count": 29,
     "metadata": {},
     "output_type": "execute_result"
    }
   ],
   "source": [
    "dir(shelve)"
   ]
  },
  {
   "cell_type": "code",
   "execution_count": 30,
   "metadata": {},
   "outputs": [],
   "source": [
    "data=shelve.open('userdata.db')"
   ]
  },
  {
   "cell_type": "code",
   "execution_count": 31,
   "metadata": {},
   "outputs": [
    {
     "name": "stdout",
     "output_type": "stream",
     "text": [
      "<class 'shelve.DbfilenameShelf'>\n"
     ]
    }
   ],
   "source": [
    "print(type(data))"
   ]
  },
  {
   "cell_type": "code",
   "execution_count": 32,
   "metadata": {},
   "outputs": [],
   "source": [
    "data.close()"
   ]
  },
  {
   "cell_type": "code",
   "execution_count": 33,
   "metadata": {},
   "outputs": [
    {
     "data": {
      "text/plain": [
       "'C:\\\\Users\\\\dell\\\\Desktop\\\\SUMMER INTERNSHIP\\\\BATCH 10_30\\\\Bank_App'"
      ]
     },
     "execution_count": 33,
     "metadata": {},
     "output_type": "execute_result"
    }
   ],
   "source": [
    "pwd"
   ]
  },
  {
   "cell_type": "code",
   "execution_count": 34,
   "metadata": {},
   "outputs": [],
   "source": [
    "import shelve\n",
    "acc1 = { 'name':'ram','balance':20000,'password':'&123'}\n",
    "acc2 = { 'name':'shyam','balance':15000,'password':'@hello'}\n",
    "acc3 = { 'name':'ghyanshaym','balance':1000,'password':'bye@'}\n",
    "acc4 = { 'name':'radheshyam','balance':12000,'password':'redhat'}\n",
    "\n",
    "data = shelve.open('userdata.db')\n",
    "data['1001'] = acc1\n",
    "data['1002'] = acc2\n",
    "data['1003'] = acc3\n",
    "data['1004'] = acc4 \n",
    "\n",
    "data.close()"
   ]
  },
  {
   "cell_type": "code",
   "execution_count": 57,
   "metadata": {},
   "outputs": [],
   "source": [
    "from getpass import getpass \n",
    "def main_menu():\n",
    "    print(\"welcome to world Bank\".center(60,\"*\"))\n",
    "    print(\"\\t1.\\tlogin\\n\\t2.\\tsignup\\n\\t3.\\tExit\")\n",
    "    ch=input(\"enter your choice :\")\n",
    "    if ch == '1' :\n",
    "        userAccountNumber=input(\"enter the Account number\")\n",
    "        login(userAccountNumber)\n",
    "    elif ch == '2' :\n",
    "        signup()\n",
    "    else:\n",
    "        Exit()\n",
    "\n",
    "\n",
    "# login function\n",
    "def login(userAccountNumber) :\n",
    "    data=shelve.open('./userdata.db',writeback=True)\n",
    "    userPassword=getpass(\"enter your passsword:\")\n",
    "    if userAccountNumber in data and userPassword == data[userAccountNumber]['password']:\n",
    "        print(\"successfully logged In\")\n",
    "        print(\"\\n\\t1.Credit\\n\\t2. Debit\\n\\t3. CheckBal\\n\\t4. ChangePassword\")\n",
    "        ch=input(\"select an option\")\n",
    "        if ch == '1' :\n",
    "            Credit(userAccountNumber)\n",
    "        elif ch == '2':\n",
    "            Debit(userAccountNumber)\n",
    "        elif ch == '3' :\n",
    "            CheckBal(userAccountNumber)\n",
    "        elif ch == '4' :\n",
    "             ChangePassword(userAccountNumber)\n",
    "        else:\n",
    "            print(\"  SORRY! WRONG KEY  \")\n",
    "     \n",
    "    else:\n",
    "        print(\"INVALID USERNAME AND PASSWORD\")\n",
    "    main_menu() \n",
    "# credit\n",
    "def Credit(userAccountNumber) :\n",
    "    amount=int(input(\"enter the amount:\"))\n",
    "    data=shelve.open('./userdata.db',writeback=True)\n",
    "    new_bal=data[userAccountNumber]['balance']+amount\n",
    "    data[userAccountNumber]['balance']=new_bal\n",
    "    print(f\"updated Balance is:{new_bal}\")\n",
    "    data.close()\n",
    "    main_menu()    \n",
    "##Debit\n",
    "def Debit(userAccountNumber) :\n",
    "    amount=int(input(\"withdraw the amount\"))\n",
    "    data=shelve.open('./userdata.db',writeback=True)\n",
    "    if amount <= data[userAccountNumber]['balance'] :\n",
    "        new_bal=data[userAccountNumber]['balance']-amount\n",
    "        data[userAccountNumber]['balance']=new_bal\n",
    "        ch=input(\"press yes if you ant to display balance\").strip().lower()\n",
    "        if ch =='yes' :\n",
    "            print(f\"your reaminig balance\")\n",
    "        else :\n",
    "            print(\"THANKS FOR USING SERVICES\")\n",
    "     \n",
    "    else:\n",
    "        print(\"INSUFFICIENT FUND\")\n",
    "    data.close()\n",
    "    main_menu()\n",
    "            \n",
    "#checkbalance\n",
    "def CheckBal(userAccountNumber) :\n",
    "    data=shelve.open('./userdata.db',writeback=True)\n",
    "    amount=data[userAccountNumber]['balance']\n",
    "    print(f\"YOUR CURRENT BALANCE IS:{amount}\")\n",
    "    data.close()\n",
    "    main_menu() \n",
    "\n",
    "#change password \n",
    "def ChangePassword(userAccountNunmber) :\n",
    "    p1 = getpass(\"Enter new password : \")\n",
    "    p2 = getpass(\"Verify password :\")\n",
    "    if p1 == p2 :\n",
    "        data=shelve.open('./userdata.db',writeback=True)\n",
    "        data[userAccountNumber]['password'] = p1\n",
    "        print(\"password successfully updated\")\n",
    "        print(\"please login again to verify :\")\n",
    "        main_menu()\n",
    "    else :\n",
    "        print(\"password does not matched\")\n",
    "        print(\"try again\")\n",
    "        ChangePassword(userAccountNumber)\n",
    "        main_menu()\n",
    "\n",
    "    \n",
    "def menu(userAccountNunmber):\n",
    "    s = \"\"\"1. Credit\\n2.Debit\\n3.Check Balance\\n4.ChangePassword\\n5.exit\"\"\"\n",
    "    print(s)\n",
    "    ch = int(input(\"Enter your choice : \"))\n",
    "    if ch == 4 : \n",
    "        ChangePassword(userAccountNunmber)\n",
    "    print(\"you are at menu of logged in function\")    \n",
    "    main_menu()\n",
    "#signup\n",
    "def signup() :\n",
    "    print(\"WELCOME TO WORLD BANK\".center(60,\"*\"))\n",
    "    userName=input(\"enter your name:\")\n",
    "    userAccountNumber=int(input(\"enter the account number:\"))\n",
    "    userPassword=getpass(\"enter your passsword\")\n",
    "    userBalance=int(input(\"enter your balance\"))\n",
    "    fp=open('last_acc.dat','r')\n",
    "    userAccountNumber=int(fp.read())\n",
    "    userAccountNumber=str(userAccountNumber+1)\n",
    "    fp.close()\n",
    "    fp=open('last_acc.dat','w')\n",
    "    fp.close()\n",
    "    fp=open('last_acc.dat','w')\n",
    "    fp.write('1004')\n",
    "    fp.close()\n",
    "    #fp.open('last_acc.dat','w')\n",
    "    #fp.write(userAccountNumber)\n",
    "   # fp.close()\n",
    "    data=shelve.open('./userdata.db',writeback=True)\n",
    "    userDict={'name':userName,'password':userPassword,'balance':userBalance}\n",
    "    data[userAccountNumber]=userDict\n",
    "    print(f\"CONGRATS FOR NEW CUSTOMER. \\nYour userName is:{userName}\\nAccount number is :{userAccountNumber}\")\n",
    "    data.close()\n",
    "    main_menu\n"
   ]
  },
  {
   "cell_type": "code",
   "execution_count": 59,
   "metadata": {},
   "outputs": [
    {
     "name": "stdout",
     "output_type": "stream",
     "text": [
      "*******************welcome to world Bank********************\n",
      "\t1.\tlogin\n",
      "\t2.\tsignup\n",
      "\t3.\tExit\n",
      "enter your choice :1\n",
      "enter the Account number1001\n",
      "enter your passsword:········\n",
      "successfully logged In\n",
      "\n",
      "\t1.Credit\n",
      "\t2. Debit\n",
      "\t3. CheckBal\n",
      "\t4. ChangePassword\n",
      "select an option3\n",
      "YOUR CURRENT BALANCE IS:20000\n",
      "*******************welcome to world Bank********************\n",
      "\t1.\tlogin\n",
      "\t2.\tsignup\n",
      "\t3.\tExit\n",
      "enter your choice :3\n",
      "THANKS FOR VISITING MY WORLD BANK\n",
      "*******************welcome to world Bank********************\n",
      "\t1.\tlogin\n",
      "\t2.\tsignup\n",
      "\t3.\tExit\n",
      "enter your choice :2\n",
      "*******************WELCOME TO WORLD BANK********************\n",
      "enter your name:prince\n",
      "enter the account number:1010\n",
      "enter your passsword········\n",
      "enter your balance2000\n",
      "CONGRATS FOR NEW CUSTOMER. \n",
      "Your userName is:prince\n",
      "Account number is :1005\n"
     ]
    }
   ],
   "source": [
    "main_menu()"
   ]
  }
 ],
 "metadata": {
  "kernelspec": {
   "display_name": "Python 3",
   "language": "python",
   "name": "python3"
  },
  "language_info": {
   "codemirror_mode": {
    "name": "ipython",
    "version": 3
   },
   "file_extension": ".py",
   "mimetype": "text/x-python",
   "name": "python",
   "nbconvert_exporter": "python",
   "pygments_lexer": "ipython3",
   "version": "3.7.3"
  }
 },
 "nbformat": 4,
 "nbformat_minor": 2
}
